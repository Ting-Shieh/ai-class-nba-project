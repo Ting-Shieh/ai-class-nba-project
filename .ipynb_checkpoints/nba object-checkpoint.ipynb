{
 "cells": [
  {
   "cell_type": "code",
   "execution_count": 1,
   "metadata": {},
   "outputs": [],
   "source": [
    "import pandas as pd"
   ]
  },
  {
   "cell_type": "code",
   "execution_count": null,
   "metadata": {},
   "outputs": [],
   "source": [
    "class NBAProject:\n",
    "    def __init(self,targetTeamId='SAS'):\n",
    "        self.sasId=targetTeamId\n",
    "        self.games_df=pd.read_csv('./data/games.csv')  #主場和客場的總體數據\n",
    "        self.games_details_df=pd.read_csv('./data/games_details.csv')# 有上場球員的比賽詳細數據\n",
    "        self.players_df=pd.read_csv('./data/players.csv')# PLAYER_NAME|TEAM_ID|PLAYER_ID|SEASON\n",
    "        # TEAM_ID| LEAGUE_ID| SEASON_ID| STANDINGSDATE| CONFERENCE| TEAM| G| W| L| W_PCT| HOME_RECORD| ROAD_RECORD\n",
    "        self.ranking_df=pd.read_csv('./data/ranking.csv')\n",
    "        self.teams_df=pd.read_csv('./data/teams.csv') \n",
    "        self.teams_name_df=pd.read_csv('./data/team_name_details.csv').drop(['Unnamed: 0'],axis=1)\n",
    "        \n",
    "    \n",
    "\n",
    "    def __playerDiff(self,newlist,oldlist):\n",
    "        # 兩年球員差異\n",
    "        return list(set(oldlist).difference(set(newlist))) \n",
    "\n",
    "    def __getPerYearPlayersAndGames(self,yearcount):\n",
    "        # 每年sas的球員名單, 每年的sas比賽場次名單\n",
    "        all_year_list = self.players_df.loc[self.players_df['TEAM_ID']==self.sasId,'SEASON'].unique()\n",
    "        playerYesrDict = {}\n",
    "        for year in all_year_list:\n",
    "            playerYesrDict['player'+str(year)] = list(self.players_df.loc[(self.players_df['TEAM_ID']==self.sasId)&(self.players_df['SEASON']==year),'PLAYER_ID'].unique())\n",
    "         \n",
    "        \n",
    "        sas_games_df = self.games_df.loc[(self.games_df['HOME_TEAM_ID']==self.sasId)|(self.games_df['VISITOR_TEAM_ID']==self.sasId)]\n",
    "\n",
    "        sasYearDF = {}\n",
    "\n",
    "        for year in all_year_list[0:yearcount] :\n",
    "\n",
    "            sasYearDF[str(year)+'df'] = sas_games_df.loc[(sas_games_df['SEASON'].isin(all_year_list[0:6]))&(sas_games_df['SEASON']==year)]\n",
    "        \n",
    "        return playerYesrDict,sasYearDF\n",
    "    \n",
    "    \n",
    "        \n",
    "    def __tagSasWin(self, homeid,awayid,home_win):\n",
    "        # tag sas 贏\n",
    "        if homeid==self.sasId and home_win==1:\n",
    "\n",
    "            return 1\n",
    "        elif awayid==self.sasId and home_win==0:\n",
    "            return 1\n",
    "        else:\n",
    "            return 0\n",
    "        \n",
    "    def perGameFinalWin():\n",
    "        playerYesrDict,sasYearDF =  self.__getPerYearPlayersAndGames(yearcount=5)\n",
    "        for itemKey in sasYearDF.keys():\n",
    "            print(itemKey)\n",
    "            sasYearDF[itemKey]['isSASWin'] = sasYearDF[itemKey].apply(lambda x : self.tagSasWin(x['TEAM_ID_home'],x['TEAM_ID_away'],x['HOME_TEAM_WINS']), axis=1)\n",
    "            sasYearDF[itemKey]"
   ]
  }
 ],
 "metadata": {
  "kernelspec": {
   "display_name": "Python 3",
   "language": "python",
   "name": "python3"
  },
  "language_info": {
   "codemirror_mode": {
    "name": "ipython",
    "version": 3
   },
   "file_extension": ".py",
   "mimetype": "text/x-python",
   "name": "python",
   "nbconvert_exporter": "python",
   "pygments_lexer": "ipython3",
   "version": "3.8.3"
  }
 },
 "nbformat": 4,
 "nbformat_minor": 4
}
