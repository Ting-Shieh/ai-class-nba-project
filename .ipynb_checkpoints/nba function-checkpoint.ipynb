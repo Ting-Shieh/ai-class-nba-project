{
 "cells": [
  {
   "cell_type": "code",
   "execution_count": null,
   "metadata": {},
   "outputs": [],
   "source": [
    "# 抓球隊中文名\n",
    "def findChineneName(nick):\n",
    "    return teams_name_df.loc[teams_name_df['nickname']==nick, 'chinese name'].values[0]"
   ]
  },
  {
   "cell_type": "code",
   "execution_count": null,
   "metadata": {},
   "outputs": [],
   "source": [
    "# 抓比賽主客隊簡名\n",
    "def findHomeAwayTeamName(gameid):\n",
    "    one_df = games_df.loc[games_df['GAME_ID']==21900895,:]\n",
    "    datadict = {\n",
    "        'HOME_TEAM_ID':one_df['HOME_TEAM_ID'].values[0],\n",
    "        'VISITOR_TEAM_ID':one_df['VISITOR_TEAM_ID'].values[0],\n",
    "        'HOME_TEAM_Name':games_details_df.loc[(games_details_df['GAME_ID']==gameid) & \n",
    "                                              (games_details_df['TEAM_ID']==one_df['HOME_TEAM_ID'].values[0]),\n",
    "                                              'TEAM_ABBREVIATION'].unique()[0],\n",
    "        'VISITOR_TEAM_Name':games_details_df.loc[(games_details_df['GAME_ID']==gameid) & \n",
    "                                              (games_details_df['TEAM_ID']==one_df['VISITOR_TEAM_ID'].values[0]),\n",
    "                                              'TEAM_ABBREVIATION'].unique()[0],\n",
    "        \n",
    "    }\n",
    "    return datadict"
   ]
  },
  {
   "cell_type": "code",
   "execution_count": null,
   "metadata": {},
   "outputs": [],
   "source": [
    "# 抓特定比賽的球員名單\n",
    "def getPlayerListOnGame(gameid,teamid):\n",
    "    playerongame_df = games_details_df.loc[games_details_df['GAME_ID']==gameid]\n",
    "    return playerongame_df.loc[playerongame_df['TEAM_ID']== teamid,'PLAYER_ID'].to_list()"
   ]
  },
  {
   "cell_type": "code",
   "execution_count": null,
   "metadata": {},
   "outputs": [],
   "source": [
    "# 抓特定比賽的球員數據\n",
    "def getGame2PlayerDetails(gameid,playerlist):\n",
    "    return games_details_df.loc[(games_details_df['GAME_ID']==gameid) & (games_details_df['PLAYER_ID'].isin(playerlist))]"
   ]
  }
 ],
 "metadata": {
  "kernelspec": {
   "display_name": "Python 3",
   "language": "python",
   "name": "python3"
  },
  "language_info": {
   "codemirror_mode": {
    "name": "ipython",
    "version": 3
   },
   "file_extension": ".py",
   "mimetype": "text/x-python",
   "name": "python",
   "nbconvert_exporter": "python",
   "pygments_lexer": "ipython3",
   "version": "3.8.3"
  }
 },
 "nbformat": 4,
 "nbformat_minor": 4
}
